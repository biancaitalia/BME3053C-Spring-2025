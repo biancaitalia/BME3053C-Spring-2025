{
  "nbformat": 4,
  "nbformat_minor": 0,
  "metadata": {
    "colab": {
      "provenance": [],
      "authorship_tag": "ABX9TyOJfI5z0daK+GaKwqup+N5H",
      "include_colab_link": true
    },
    "kernelspec": {
      "name": "python3",
      "display_name": "Python 3"
    },
    "language_info": {
      "name": "python"
    }
  },
  "cells": [
    {
      "cell_type": "markdown",
      "metadata": {
        "id": "view-in-github",
        "colab_type": "text"
      },
      "source": [
        "<a href=\"https://colab.research.google.com/github/biancaitalia/BME3053C-Spring-2025/blob/main/Homework_3.ipynb\" target=\"_parent\"><img src=\"https://colab.research.google.com/assets/colab-badge.svg\" alt=\"Open In Colab\"/></a>"
      ]
    },
    {
      "cell_type": "code",
      "execution_count": 49,
      "metadata": {
        "colab": {
          "base_uri": "https://localhost:8080/"
        },
        "id": "pvXd1T-YBhuf",
        "outputId": "4e1dad6f-aff4-4b2c-c0cf-b39276170507"
      },
      "outputs": [
        {
          "output_type": "stream",
          "name": "stdout",
          "text": [
            "Number of Peaks =  12\n"
          ]
        }
      ],
      "source": [
        "import math\n",
        "import random\n",
        "\n",
        "ppg_signal=[1000 + 100*math.sin(0.1*x) + random.randint(-20,20) for x in range (100)]\n",
        "\n",
        "\n",
        "def count_signal():\n",
        "  c = 0\n",
        "  for i in range(1, len(ppg_signal)-1):\n",
        "    if ppg_signal[i] > ppg_signal[i-1] and ppg_signal[i] < ppg_signal[i+1]:\n",
        "      c += 1\n",
        "  print('Number of Peaks = ', c)\n",
        "\n",
        "count_signal()"
      ]
    }
  ]
}