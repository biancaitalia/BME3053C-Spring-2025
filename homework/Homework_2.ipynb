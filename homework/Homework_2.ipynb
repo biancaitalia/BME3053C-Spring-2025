{
  "nbformat": 4,
  "nbformat_minor": 0,
  "metadata": {
    "colab": {
      "provenance": [],
      "authorship_tag": "ABX9TyNL5MHZb3kgnxS3d+YeVmw6",
      "include_colab_link": true
    },
    "kernelspec": {
      "name": "python3",
      "display_name": "Python 3"
    },
    "language_info": {
      "name": "python"
    }
  },
  "cells": [
    {
      "cell_type": "markdown",
      "metadata": {
        "id": "view-in-github",
        "colab_type": "text"
      },
      "source": [
        "<a href=\"https://colab.research.google.com/github/biancaitalia/BME3053C-Spring-2025/blob/main/Homework_2.ipynb\" target=\"_parent\"><img src=\"https://colab.research.google.com/assets/colab-badge.svg\" alt=\"Open In Colab\"/></a>"
      ]
    },
    {
      "cell_type": "code",
      "execution_count": null,
      "metadata": {
        "colab": {
          "base_uri": "https://localhost:8080/",
          "height": 211
        },
        "id": "8kGjQJ3NazjV",
        "outputId": "37aef03d-2b3f-4036-b302-d97f99f9dc1d"
      },
      "outputs": [
        {
          "output_type": "error",
          "ename": "NameError",
          "evalue": "name 'num' is not defined",
          "traceback": [
            "\u001b[0;31m---------------------------------------------------------------------------\u001b[0m",
            "\u001b[0;31mNameError\u001b[0m                                 Traceback (most recent call last)",
            "\u001b[0;32m<ipython-input-41-cf405ff044d1>\u001b[0m in \u001b[0;36m<cell line: 0>\u001b[0;34m()\u001b[0m\n\u001b[1;32m     11\u001b[0m   \u001b[0mprint\u001b[0m\u001b[0;34m(\u001b[0m\u001b[0moutput_values\u001b[0m\u001b[0;34m)\u001b[0m\u001b[0;34m\u001b[0m\u001b[0;34m\u001b[0m\u001b[0m\n\u001b[1;32m     12\u001b[0m \u001b[0;34m\u001b[0m\u001b[0m\n\u001b[0;32m---> 13\u001b[0;31m \u001b[0mnormalized_values\u001b[0m\u001b[0;34m(\u001b[0m\u001b[0mnum\u001b[0m\u001b[0;34m)\u001b[0m\u001b[0;34m\u001b[0m\u001b[0;34m\u001b[0m\u001b[0m\n\u001b[0m\u001b[1;32m     14\u001b[0m \u001b[0;34m\u001b[0m\u001b[0m\n\u001b[1;32m     15\u001b[0m \u001b[0;34m\u001b[0m\u001b[0m\n",
            "\u001b[0;31mNameError\u001b[0m: name 'num' is not defined"
          ]
        }
      ],
      "source": [
        "bp_readings = [120, 137, 151, 123, 162, 173, 127, 154]\n",
        "\n",
        "min_value = (min(bp_readings))\n",
        "max_value = (max(bp_readings))\n",
        "output_values=[]\n",
        "\n",
        "def normalized_values(in_list):\n",
        "  for num in bp_readings:\n",
        "    normal_value= ((num- min_value)/(max_value-min_value))\n",
        "    output_values.append(normal_value)\n",
        "  print(output_values)\n",
        "\n",
        "normalized_values(num)\n",
        "\n",
        "\n"
      ]
    },
    {
      "cell_type": "code",
      "source": [
        "bp_readings = [120, 137, 151, 123, 162, 173, 127, 154]\n",
        "\n",
        "\n",
        "\n",
        "def normalized_bp():\n",
        "  min_value=min(bp_readings)\n",
        "  max_value=max(bp_readings)\n",
        "  print('Minimum Value =',min_value)\n",
        "  print('Maximum Value =', max_value)\n",
        "  output_list=[]\n",
        "  for array in bp_readings:\n",
        "    normal_val=((array-min_value)/(max_value-min_value))\n",
        "    output_list.append(normal_val)\n",
        "  print(output_list)\n",
        "\n",
        "normalized_bp()\n"
      ],
      "metadata": {
        "id": "1_9k6G0whsdt",
        "outputId": "62891a95-c3c1-40e7-ce31-e44b4822e0b1",
        "colab": {
          "base_uri": "https://localhost:8080/"
        }
      },
      "execution_count": 40,
      "outputs": [
        {
          "output_type": "stream",
          "name": "stdout",
          "text": [
            "Minimum Value = 120\n",
            "Maximum Value = 173\n",
            "[0.0, 0.32075471698113206, 0.5849056603773585, 0.05660377358490566, 0.7924528301886793, 1.0, 0.1320754716981132, 0.6415094339622641]\n"
          ]
        }
      ]
    },
    {
      "cell_type": "code",
      "source": [],
      "metadata": {
        "id": "wlykzhJh-gSB"
      },
      "execution_count": null,
      "outputs": []
    }
  ]
}